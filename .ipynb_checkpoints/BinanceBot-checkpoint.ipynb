{
 "cells": [
  {
   "cell_type": "code",
   "execution_count": 1,
   "metadata": {},
   "outputs": [
    {
     "name": "stdout",
     "output_type": "stream",
     "text": [
      "Collecting python-binance\n",
      "  Downloading https://files.pythonhosted.org/packages/82/e1/f1b2346fdb0fcfc397376798425578f64198d7d7a5a079c8864ae0cbcdc0/python-binance-0.7.1.tar.gz\n",
      "Requirement already satisfied: requests in c:\\users\\misha\\anaconda3\\lib\\site-packages (from python-binance) (2.21.0)\n",
      "Requirement already satisfied: six in c:\\users\\misha\\anaconda3\\lib\\site-packages (from python-binance) (1.12.0)\n",
      "Collecting Twisted (from python-binance)\n",
      "  Downloading https://files.pythonhosted.org/packages/5d/0e/a72d85a55761c2c3ff1cb968143a2fd5f360220779ed90e0fadf4106d4f2/Twisted-18.9.0.tar.bz2 (3.1MB)\n",
      "Requirement already satisfied: pyOpenSSL in c:\\users\\misha\\anaconda3\\lib\\site-packages (from python-binance) (18.0.0)\n",
      "Collecting autobahn (from python-binance)\n",
      "  Downloading https://files.pythonhosted.org/packages/3d/d9/28aa58047558351eea29dafb8ff813af72e39ac35ade686394ca856914a7/autobahn-19.1.1-py2.py3-none-any.whl (302kB)\n",
      "Collecting service-identity (from python-binance)\n",
      "  Downloading https://files.pythonhosted.org/packages/e9/7c/2195b890023e098f9618d43ebc337d83c8b38d414326685339eb024db2f6/service_identity-18.1.0-py2.py3-none-any.whl\n",
      "Collecting dateparser (from python-binance)\n",
      "  Downloading https://files.pythonhosted.org/packages/ac/9e/1aa87c0c59f9731820bfd20a8b148d97b315530c2c92d1fb300328c8c42f/dateparser-0.7.0-py2.py3-none-any.whl (357kB)\n",
      "Requirement already satisfied: urllib3 in c:\\users\\misha\\anaconda3\\lib\\site-packages (from python-binance) (1.24.1)\n",
      "Requirement already satisfied: chardet in c:\\users\\misha\\anaconda3\\lib\\site-packages (from python-binance) (3.0.4)\n",
      "Requirement already satisfied: certifi in c:\\users\\misha\\anaconda3\\lib\\site-packages (from python-binance) (2018.11.29)\n",
      "Requirement already satisfied: cryptography in c:\\users\\misha\\anaconda3\\lib\\site-packages (from python-binance) (2.4.2)\n",
      "Requirement already satisfied: idna<2.9,>=2.5 in c:\\users\\misha\\anaconda3\\lib\\site-packages (from requests->python-binance) (2.8)\n",
      "Collecting zope.interface>=4.4.2 (from Twisted->python-binance)\n",
      "  Downloading https://files.pythonhosted.org/packages/a8/d2/e2fb1052cdf1c1d05a23c5f7a192a8dc104d5afda0539f86b9839264e1cc/zope.interface-4.6.0-cp37-cp37m-win_amd64.whl (133kB)\n",
      "Collecting constantly>=15.1 (from Twisted->python-binance)\n",
      "  Downloading https://files.pythonhosted.org/packages/b9/65/48c1909d0c0aeae6c10213340ce682db01b48ea900a7d9fce7a7910ff318/constantly-15.1.0-py2.py3-none-any.whl\n",
      "Collecting incremental>=16.10.1 (from Twisted->python-binance)\n",
      "  Downloading https://files.pythonhosted.org/packages/f5/1d/c98a587dc06e107115cf4a58b49de20b19222c83d75335a192052af4c4b7/incremental-17.5.0-py2.py3-none-any.whl\n",
      "Collecting Automat>=0.3.0 (from Twisted->python-binance)\n",
      "  Downloading https://files.pythonhosted.org/packages/a3/86/14c16bb98a5a3542ed8fed5d74fb064a902de3bdd98d6584b34553353c45/Automat-0.7.0-py2.py3-none-any.whl\n",
      "Collecting hyperlink>=17.1.1 (from Twisted->python-binance)\n",
      "  Downloading https://files.pythonhosted.org/packages/a7/b6/84d0c863ff81e8e7de87cff3bd8fd8f1054c227ce09af1b679a8b17a9274/hyperlink-18.0.0-py2.py3-none-any.whl\n",
      "Collecting PyHamcrest>=1.9.0 (from Twisted->python-binance)\n",
      "  Downloading https://files.pythonhosted.org/packages/9a/d5/d37fd731b7d0e91afcc84577edeccf4638b4f9b82f5ffe2f8b62e2ddc609/PyHamcrest-1.9.0-py2.py3-none-any.whl (52kB)\n",
      "Requirement already satisfied: attrs>=17.4.0 in c:\\users\\misha\\anaconda3\\lib\\site-packages (from Twisted->python-binance) (18.2.0)\n",
      "Collecting txaio>=18.8.1 (from autobahn->python-binance)\n",
      "  Downloading https://files.pythonhosted.org/packages/e9/6d/e1a6f7835cde86728e5bb1f577be9b2d7d273fdb33c286e70b087d418ded/txaio-18.8.1-py2.py3-none-any.whl\n",
      "Collecting pyasn1 (from service-identity->python-binance)\n",
      "  Downloading https://files.pythonhosted.org/packages/7b/7c/c9386b82a25115cccf1903441bba3cbadcfae7b678a20167347fa8ded34c/pyasn1-0.4.5-py2.py3-none-any.whl (73kB)\n",
      "Collecting pyasn1-modules (from service-identity->python-binance)\n",
      "  Downloading https://files.pythonhosted.org/packages/da/98/8ddd9fa4d84065926832bcf2255a2b69f1d03330aa4d1c49cc7317ac888e/pyasn1_modules-0.2.4-py2.py3-none-any.whl (66kB)\n",
      "Requirement already satisfied: pytz in c:\\users\\misha\\anaconda3\\lib\\site-packages (from dateparser->python-binance) (2018.7)\n",
      "Collecting regex (from dateparser->python-binance)\n",
      "  Downloading https://files.pythonhosted.org/packages/c7/b5/4694d5d69f67d51fffc026834d534931c2ae0b4d17bd235e29e21b49d7d6/regex-2019.01.24-cp37-none-win_amd64.whl (275kB)\n",
      "Requirement already satisfied: python-dateutil in c:\\users\\misha\\anaconda3\\lib\\site-packages (from dateparser->python-binance) (2.7.5)\n",
      "Collecting tzlocal (from dateparser->python-binance)\n",
      "  Downloading https://files.pythonhosted.org/packages/cb/89/e3687d3ed99bc882793f82634e9824e62499fdfdc4b1ae39e211c5b05017/tzlocal-1.5.1.tar.gz\n",
      "Requirement already satisfied: asn1crypto>=0.21.0 in c:\\users\\misha\\anaconda3\\lib\\site-packages (from cryptography->python-binance) (0.24.0)\n",
      "Requirement already satisfied: cffi!=1.11.3,>=1.7 in c:\\users\\misha\\anaconda3\\lib\\site-packages (from cryptography->python-binance) (1.11.5)\n",
      "Requirement already satisfied: setuptools in c:\\users\\misha\\anaconda3\\lib\\site-packages (from zope.interface>=4.4.2->Twisted->python-binance) (40.6.3)\n",
      "Requirement already satisfied: pycparser in c:\\users\\misha\\anaconda3\\lib\\site-packages (from cffi!=1.11.3,>=1.7->cryptography->python-binance) (2.19)\n",
      "Building wheels for collected packages: python-binance, Twisted, tzlocal\n",
      "  Running setup.py bdist_wheel for python-binance: started\n",
      "  Running setup.py bdist_wheel for python-binance: finished with status 'done'\n",
      "  Stored in directory: C:\\Users\\Misha\\AppData\\Local\\pip\\Cache\\wheels\\3c\\be\\a7\\81d7883ee70f094e93c556858f667ea519b93eac77eaad6828\n",
      "  Running setup.py bdist_wheel for Twisted: started\n",
      "  Running setup.py bdist_wheel for Twisted: finished with status 'done'\n",
      "  Stored in directory: C:\\Users\\Misha\\AppData\\Local\\pip\\Cache\\wheels\\57\\2e\\89\\11ba83bc08ac30a5e3a6005f0310c78d231b96a270def88ca0\n",
      "  Running setup.py bdist_wheel for tzlocal: started\n",
      "  Running setup.py bdist_wheel for tzlocal: finished with status 'done'\n",
      "  Stored in directory: C:\\Users\\Misha\\AppData\\Local\\pip\\Cache\\wheels\\15\\ae\\df\\a67bf1ed84e9bf230187d36d8dcfd30072bea0236cb059ed91\n",
      "Successfully built python-binance Twisted tzlocal\n",
      "Installing collected packages: zope.interface, constantly, incremental, Automat, hyperlink, PyHamcrest, Twisted, txaio, autobahn, pyasn1, pyasn1-modules, service-identity, regex, tzlocal, dateparser, python-binance\n",
      "Successfully installed Automat-0.7.0 PyHamcrest-1.9.0 Twisted-18.9.0 autobahn-19.1.1 constantly-15.1.0 dateparser-0.7.0 hyperlink-18.0.0 incremental-17.5.0 pyasn1-0.4.5 pyasn1-modules-0.2.4 python-binance-0.7.1 regex-2019.1.24 service-identity-18.1.0 txaio-18.8.1 tzlocal-1.5.1 zope.interface-4.6.0\n"
     ]
    }
   ],
   "source": [
    "!pip install python-binance"
   ]
  },
  {
   "cell_type": "code",
   "execution_count": 17,
   "metadata": {},
   "outputs": [],
   "source": [
    "import pandas as pd\n",
    "import numpy as np\n",
    "import math\n",
    "import matplotlib.pyplot as plt\n",
    "import time"
   ]
  },
  {
   "cell_type": "code",
   "execution_count": 5,
   "metadata": {},
   "outputs": [],
   "source": [
    "from binance.client import Client\n",
    "client = Client(api_key, secret_key)"
   ]
  },
  {
   "cell_type": "code",
   "execution_count": 6,
   "metadata": {},
   "outputs": [],
   "source": [
    "depth = client.get_order_book(symbol='BTCUSDT')"
   ]
  },
  {
   "cell_type": "code",
   "execution_count": 13,
   "metadata": {},
   "outputs": [
    {
     "data": {
      "text/plain": [
       "3418.0"
      ]
     },
     "execution_count": 13,
     "metadata": {},
     "output_type": "execute_result"
    }
   ],
   "source": [
    "float(depth['asks'][0][0])"
   ]
  },
  {
   "cell_type": "code",
   "execution_count": 14,
   "metadata": {},
   "outputs": [],
   "source": [
    "prices = client.get_all_tickers()"
   ]
  },
  {
   "cell_type": "code",
   "execution_count": 16,
   "metadata": {},
   "outputs": [],
   "source": [
    "k = [2**i for i in range(2,17)]"
   ]
  },
  {
   "cell_type": "code",
   "execution_count": 22,
   "metadata": {},
   "outputs": [
    {
     "name": "stdout",
     "output_type": "stream",
     "text": [
      "1548999743.4953763:1548999803.4958372 - 60.0004608631134\n"
     ]
    }
   ],
   "source": [
    "start = time.time()\n",
    "time.sleep(60)\n",
    "end = time.time()\n",
    "print(\"{}:{} - {}\".format(start, end, end-start))"
   ]
  },
  {
   "cell_type": "code",
   "execution_count": 24,
   "metadata": {},
   "outputs": [
    {
     "data": {
      "text/plain": [
       "597.6079257312409"
      ]
     },
     "execution_count": 24,
     "metadata": {},
     "output_type": "execute_result"
    }
   ],
   "source": [
    "1548999743.4953763/60/60/24/30\n"
   ]
  },
  {
   "cell_type": "code",
   "execution_count": null,
   "metadata": {},
   "outputs": [],
   "source": []
  }
 ],
 "metadata": {
  "kernelspec": {
   "display_name": "Python 3",
   "language": "python",
   "name": "python3"
  },
  "language_info": {
   "codemirror_mode": {
    "name": "ipython",
    "version": 3
   },
   "file_extension": ".py",
   "mimetype": "text/x-python",
   "name": "python",
   "nbconvert_exporter": "python",
   "pygments_lexer": "ipython3",
   "version": "3.7.1"
  }
 },
 "nbformat": 4,
 "nbformat_minor": 2
}
