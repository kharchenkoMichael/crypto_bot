{
 "cells": [
  {
   "cell_type": "code",
   "execution_count": 1,
   "metadata": {},
   "outputs": [],
   "source": [
    "import pandas as pd\n",
    "import numpy as np\n",
    "import math\n",
    "import matplotlib.pyplot as plt"
   ]
  },
  {
   "cell_type": "code",
   "execution_count": 2,
   "metadata": {},
   "outputs": [
    {
     "name": "stdout",
     "output_type": "stream",
     "text": [
      "1951822\n"
     ]
    }
   ],
   "source": [
    "df14_15 = pd.read_csv('GDAX.BTC-USD_140101_150101.csv', sep=',')\n",
    "df = df14_15\n",
    "l = len(df)\n",
    "\n",
    "df15_16 = pd.read_csv('GDAX.BTC-USD_150101_160101.csv', sep=',')\n",
    "rename_dic = dict(zip(df15_16.index, [i + l for i in range(len(df15_16))]))\n",
    "df15_16.rename(index=rename_dic, inplace=True)\n",
    "df = df.append(df15_16)\n",
    "l = len(df)\n",
    "\n",
    "df16_17 = pd.read_csv('GDAX.BTC-USD_160101_170101.csv', sep=',')\n",
    "rename_dic = dict(zip(df16_17.index, [i + l for i in range(len(df16_17))]))\n",
    "df16_17.rename(index=rename_dic, inplace=True)\n",
    "df = df.append(df16_17)\n",
    "l = len(df)\n",
    "\n",
    "df17_18 = pd.read_csv('GDAX.BTC-USD_170101_180101.csv', sep=',')\n",
    "rename_dic = dict(zip(df17_18.index, [i + l for i in range(len(df17_18))]))\n",
    "df17_18.rename(index=rename_dic, inplace=True)\n",
    "df = df.append(df17_18)\n",
    "l = len(df)\n",
    "\n",
    "df18_19 = pd.read_csv('GDAX.BTC-USD_180101_190101.csv', sep=',')\n",
    "rename_dic = dict(zip(df18_19.index, [i + l for i in range(len(df18_19))]))\n",
    "df18_19.rename(index=rename_dic, inplace=True)\n",
    "df = df.append(df18_19)\n",
    "l = len(df)\n",
    "print(l)"
   ]
  },
  {
   "cell_type": "code",
   "execution_count": 3,
   "metadata": {},
   "outputs": [
    {
     "data": {
      "text/plain": [
       "Index(['ticks', 'per', 'date', 'time', 'open', 'high', 'low', 'close', 'vol'], dtype='object')"
      ]
     },
     "execution_count": 3,
     "metadata": {},
     "output_type": "execute_result"
    }
   ],
   "source": [
    "rename_dic = dict(zip(df.columns, \n",
    "                      ['ticks', 'per', 'date', 'time',\n",
    "                       'open', 'high', 'low', 'close',\n",
    "                       'vol']))\n",
    "df.rename(columns=rename_dic, inplace=True)\n",
    "df.columns"
   ]
  },
  {
   "cell_type": "code",
   "execution_count": 134,
   "metadata": {},
   "outputs": [],
   "source": [
    "k_defaults = 0.2\n",
    "result = [500, 500/df.open[1000]]\n",
    "maxloss = 0\n",
    "curr = df.open[1000]\n",
    "order = 100\n",
    "b = 0 \n",
    "k= [k_defaults, k_defaults]\n",
    "all_j = [1000 for i in range(len(df.open))]\n",
    "max_b = 0"
   ]
  },
  {
   "cell_type": "code",
   "execution_count": 135,
   "metadata": {},
   "outputs": [
    {
     "name": "stdout",
     "output_type": "stream",
     "text": [
      "1 1 0\t|600.00\t+\t464.49\t=\t1064.49 20150204 60900\n",
      "1 1 0\t|2.62\t+\t2.03\t=\t4.65\n",
      "2 1 0\t|600.00\t+\t447.94\t=\t1047.94 20150212 195700\n",
      "2 1 0\t|2.72\t+\t2.03\t=\t4.75\n",
      "3 1 0\t|600.00\t+\t491.34\t=\t1091.34 20150220 14300\n",
      "3 1 0\t|2.48\t+\t2.03\t=\t4.51\n",
      "4 1 0\t|600.00\t+\t511.87\t=\t1111.87 20150227 110400\n",
      "4 1 0\t|2.38\t+\t2.03\t=\t4.41\n",
      "5 1 0\t|600.00\t+\t553.56\t=\t1153.56 20150306 183500\n",
      "5 1 0\t|2.20\t+\t2.03\t=\t4.23\n",
      "6 1 0\t|600.00\t+\t582.60\t=\t1182.60 20150314 24700\n",
      "6 1 0\t|2.09\t+\t2.03\t=\t4.12\n",
      "7 1 0\t|600.00\t+\t523.74\t=\t1123.74 20150321 120600\n",
      "7 1 0\t|2.32\t+\t2.03\t=\t4.35\n",
      "8 1 0\t|600.00\t+\t515.01\t=\t1115.01 20150329 4900\n",
      "8 1 0\t|2.36\t+\t2.03\t=\t4.39\n",
      "9 1 0\t|600.00\t+\t522.64\t=\t1122.64 20150405 164900\n",
      "9 1 0\t|2.33\t+\t2.03\t=\t4.36\n",
      "10 1 0\t|600.00\t+\t482.79\t=\t1082.79 20150413 82500\n",
      "10 1 0\t|2.52\t+\t2.03\t=\t4.55\n",
      "11 1 0\t|600.00\t+\t455.10\t=\t1055.10 20150421 10600\n",
      "11 1 0\t|2.67\t+\t2.03\t=\t4.70\n",
      "12 1 0\t|600.00\t+\t454.27\t=\t1054.27 20150428 162800\n",
      "12 1 0\t|2.68\t+\t2.03\t=\t4.71\n",
      "13 1 0\t|600.00\t+\t476.71\t=\t1076.71 20150506 93100\n",
      "13 1 0\t|2.55\t+\t2.03\t=\t4.58\n",
      "14 1 0\t|600.00\t+\t481.41\t=\t1081.41 20150514 143200\n",
      "14 1 0\t|2.53\t+\t2.03\t=\t4.56\n",
      "15 1 0\t|600.00\t+\t480.81\t=\t1080.81 20150522 180000\n",
      "15 1 0\t|2.53\t+\t2.03\t=\t4.56\n",
      "16 1 0\t|600.00\t+\t471.94\t=\t1071.94 20150530 191600\n",
      "16 1 0\t|2.58\t+\t2.03\t=\t4.61\n",
      "17 1 0\t|600.00\t+\t456.48\t=\t1056.48 20150607 154900\n",
      "17 1 0\t|2.67\t+\t2.03\t=\t4.70\n",
      "18 1 0\t|600.00\t+\t477.74\t=\t1077.74 20150615 194500\n",
      "18 1 0\t|2.55\t+\t2.03\t=\t4.58\n",
      "19 1 0\t|600.00\t+\t498.17\t=\t1098.17 20150623 113900\n",
      "19 1 0\t|2.44\t+\t2.03\t=\t4.47\n",
      "20 1 0\t|600.00\t+\t528.75\t=\t1128.75 20150701 73600\n",
      "20 1 0\t|2.30\t+\t2.03\t=\t4.33\n",
      "21 1 0\t|600.00\t+\t549.69\t=\t1149.69 20150709 31000\n",
      "21 1 0\t|2.21\t+\t2.03\t=\t4.24\n",
      "22 1 0\t|600.00\t+\t574.24\t=\t1174.24 20150716 120200\n",
      "22 1 0\t|2.12\t+\t2.03\t=\t4.15\n",
      "23 1 0\t|600.00\t+\t562.39\t=\t1162.39 20150724 30200\n",
      "23 1 0\t|2.16\t+\t2.03\t=\t4.19\n",
      "24 1 0\t|600.00\t+\t577.60\t=\t1177.60 20150731 201500\n",
      "24 1 0\t|2.11\t+\t2.03\t=\t4.14\n",
      "25 1 0\t|600.00\t+\t545.81\t=\t1145.81 20150808 164700\n",
      "25 1 0\t|2.23\t+\t2.03\t=\t4.26\n",
      "26 1 0\t|600.00\t+\t533.01\t=\t1133.01 20150816 61000\n",
      "26 1 0\t|2.28\t+\t2.03\t=\t4.31\n",
      "27 1 0\t|600.00\t+\t467.25\t=\t1067.25 20150823 181000\n",
      "27 1 0\t|2.61\t+\t2.03\t=\t4.63\n",
      "28 -1 0\t|400.00\t+\t571.01\t=\t971.01 20150831 74800\n",
      "28 -1 0\t|1.75\t+\t2.50\t=\t4.26\n",
      "29 -1 0\t|400.00\t+\t608.45\t=\t1008.45 20150908 53400\n",
      "29 -1 0\t|1.65\t+\t2.50\t=\t4.15\n",
      "30 -1 0\t|400.00\t+\t576.82\t=\t976.82 20150916 5300\n",
      "30 -1 0\t|1.74\t+\t2.50\t=\t4.24\n",
      "31 -1 0\t|400.00\t+\t576.07\t=\t976.07 20150924 10400\n",
      "31 -1 0\t|1.74\t+\t2.50\t=\t4.24\n",
      "32 -1 0\t|400.00\t+\t598.93\t=\t998.93 20151001 195200\n",
      "32 -1 0\t|1.67\t+\t2.50\t=\t4.18\n",
      "33 -1 0\t|400.00\t+\t612.33\t=\t1012.33 20151009 234400\n",
      "33 -1 0\t|1.64\t+\t2.50\t=\t4.14\n",
      "34 1 0\t|600.00\t+\t459.32\t=\t1059.32 20151017 232800\n",
      "34 1 0\t|2.24\t+\t1.71\t=\t3.95\n",
      "35 1 0\t|600.00\t+\t487.66\t=\t1087.66 20151026 112800\n",
      "35 1 0\t|2.11\t+\t1.71\t=\t3.82\n",
      "36 1 0\t|600.00\t+\t583.41\t=\t1183.41 20151102 165700\n",
      "36 1 0\t|1.76\t+\t1.71\t=\t3.47\n",
      "37 2 0\t|799.80\t+\t439.28\t=\t1239.08 20151109 181100\n",
      "37 2 0\t|2.09\t+\t1.15\t=\t3.23\n",
      "38 2 0\t|799.80\t+\t377.62\t=\t1177.42 20151116 235900\n",
      "38 2 0\t|2.43\t+\t1.15\t=\t3.57\n",
      "39 2 0\t|799.80\t+\t368.83\t=\t1168.63 20151124 122300\n",
      "39 2 0\t|2.49\t+\t1.15\t=\t3.63\n",
      "40 2 0\t|799.80\t+\t412.24\t=\t1212.04 20151201 211500\n",
      "40 2 0\t|2.22\t+\t1.15\t=\t3.37\n",
      "41 2 0\t|799.80\t+\t473.93\t=\t1273.73 20151209 25000\n",
      "41 2 0\t|1.93\t+\t1.15\t=\t3.08\n",
      "42 2 0\t|799.80\t+\t515.53\t=\t1315.33 20151216 81000\n",
      "42 2 0\t|1.78\t+\t1.15\t=\t2.92\n",
      "43 2 0\t|799.80\t+\t523.92\t=\t1323.72 20151224 71000\n",
      "43 2 0\t|1.75\t+\t1.15\t=\t2.90\n",
      "44 2 0\t|799.80\t+\t487.92\t=\t1287.72 20151231 175600\n",
      "44 2 0\t|1.88\t+\t1.15\t=\t3.03\n",
      "45 2 0\t|799.80\t+\t507.85\t=\t1307.65 20160107 61100\n",
      "45 2 0\t|1.81\t+\t1.15\t=\t2.95\n",
      "46 2 0\t|799.80\t+\t494.06\t=\t1293.86 20160114 130100\n",
      "46 2 0\t|1.86\t+\t1.15\t=\t3.00\n",
      "47 2 0\t|799.80\t+\t466.47\t=\t1266.27 20160122 13300\n",
      "47 2 0\t|1.97\t+\t1.15\t=\t3.11\n",
      "48 2 0\t|799.80\t+\t435.41\t=\t1235.21 20160130 54500\n",
      "48 2 0\t|2.11\t+\t1.15\t=\t3.25\n",
      "49 2 0\t|799.80\t+\t431.36\t=\t1231.16 20160206 171100\n",
      "49 2 0\t|2.13\t+\t1.15\t=\t3.27\n",
      "50 2 0\t|799.80\t+\t452.76\t=\t1252.56 20160214 34600\n",
      "50 2 0\t|2.02\t+\t1.15\t=\t3.17\n",
      "51 2 0\t|799.80\t+\t494.46\t=\t1294.26 20160221 164500\n",
      "51 2 0\t|1.85\t+\t1.15\t=\t3.00\n",
      "52 2 0\t|799.80\t+\t496.46\t=\t1296.26 20160229 30600\n",
      "52 2 0\t|1.85\t+\t1.15\t=\t2.99\n",
      "53 2 0\t|799.80\t+\t465.19\t=\t1264.99 20160307 123400\n",
      "53 2 0\t|1.97\t+\t1.15\t=\t3.12\n",
      "54 2 0\t|799.80\t+\t473.97\t=\t1273.77 20160314 223900\n",
      "54 2 0\t|1.93\t+\t1.15\t=\t3.08\n",
      "55 2 0\t|799.80\t+\t476.71\t=\t1276.51 20160322 82400\n",
      "55 2 0\t|1.92\t+\t1.15\t=\t3.07\n",
      "56 2 0\t|799.80\t+\t475.85\t=\t1275.65 20160330 2300\n",
      "56 2 0\t|1.93\t+\t1.15\t=\t3.07\n",
      "57 2 0\t|799.80\t+\t483.72\t=\t1283.52 20160406 113400\n",
      "57 2 0\t|1.90\t+\t1.15\t=\t3.04\n",
      "58 2 0\t|799.80\t+\t488.70\t=\t1288.50 20160413 213900\n",
      "58 2 0\t|1.88\t+\t1.15\t=\t3.02\n",
      "59 2 0\t|799.80\t+\t507.80\t=\t1307.60 20160421 131200\n",
      "59 2 0\t|1.81\t+\t1.15\t=\t2.95\n",
      "60 2 0\t|799.80\t+\t513.84\t=\t1313.64 20160428 192500\n",
      "60 2 0\t|1.78\t+\t1.15\t=\t2.93\n",
      "61 2 0\t|799.80\t+\t515.48\t=\t1315.28 20160506 43300\n",
      "61 2 0\t|1.78\t+\t1.15\t=\t2.92\n",
      "62 2 0\t|799.80\t+\t521.95\t=\t1321.75 20160513 144300\n",
      "62 2 0\t|1.76\t+\t1.15\t=\t2.90\n",
      "63 2 0\t|799.80\t+\t509.60\t=\t1309.40 20160520 185600\n",
      "63 2 0\t|1.80\t+\t1.15\t=\t2.95\n",
      "64 2 0\t|799.80\t+\t536.88\t=\t1336.68 20160528 1800\n",
      "64 2 0\t|1.71\t+\t1.15\t=\t2.85\n",
      "65 2 0\t|799.80\t+\t658.50\t=\t1458.30 20160604 35600\n",
      "65 2 0\t|1.39\t+\t1.15\t=\t2.54\n",
      "66 2 0\t|799.80\t+\t668.53\t=\t1468.33 20160611 52900\n",
      "66 2 0\t|1.37\t+\t1.15\t=\t2.52\n",
      "67 4 0\t|1199.40\t+\t385.57\t=\t1584.97 20160618 62600\n",
      "67 4 0\t|1.61\t+\t0.52\t=\t2.13\n",
      "68 4 0\t|1199.40\t+\t361.09\t=\t1560.49 20160625 64700\n",
      "68 4 0\t|1.72\t+\t0.52\t=\t2.24\n",
      "69 4 0\t|1199.40\t+\t352.28\t=\t1551.68 20160702 95500\n",
      "69 4 0\t|1.76\t+\t0.52\t=\t2.28\n",
      "70 4 0\t|1199.40\t+\t342.19\t=\t1541.59 20160709 181100\n",
      "70 4 0\t|1.81\t+\t0.52\t=\t2.33\n",
      "71 4 0\t|1199.40\t+\t351.50\t=\t1550.90 20160717 221800\n",
      "71 4 0\t|1.77\t+\t0.52\t=\t2.28\n",
      "72 4 0\t|1199.40\t+\t341.98\t=\t1541.38 20160725 53400\n",
      "72 4 0\t|1.82\t+\t0.52\t=\t2.33\n",
      "73 4 0\t|1199.40\t+\t323.79\t=\t1523.19 20160801 103600\n",
      "73 4 0\t|1.92\t+\t0.52\t=\t2.43\n",
      "74 -1 0\t|699.40\t+\t753.83\t=\t1453.23 20160808 144000\n",
      "74 -1 0\t|1.18\t+\t1.27\t=\t2.45\n",
      "75 -1 0\t|699.40\t+\t719.64\t=\t1419.04 20160815 180300\n",
      "75 -1 0\t|1.24\t+\t1.27\t=\t2.51\n",
      "76 -1 0\t|699.40\t+\t743.43\t=\t1442.83 20160822 223600\n",
      "76 -1 0\t|1.20\t+\t1.27\t=\t2.47\n",
      "77 -1 0\t|699.40\t+\t730.08\t=\t1429.48 20160830 22300\n",
      "77 -1 0\t|1.22\t+\t1.27\t=\t2.49\n",
      "78 -1 0\t|699.40\t+\t773.63\t=\t1473.03 20160906 42100\n",
      "78 -1 0\t|1.15\t+\t1.27\t=\t2.42\n",
      "79 -1 0\t|699.40\t+\t774.34\t=\t1473.74 20160913 63700\n",
      "79 -1 0\t|1.15\t+\t1.27\t=\t2.42\n",
      "80 -1 0\t|699.40\t+\t773.86\t=\t1473.26 20160920 133600\n",
      "80 -1 0\t|1.15\t+\t1.27\t=\t2.42\n",
      "81 -1 0\t|699.40\t+\t767.55\t=\t1466.95 20160927 173800\n",
      "81 -1 0\t|1.16\t+\t1.27\t=\t2.43\n",
      "82 -1 0\t|699.40\t+\t776.58\t=\t1475.98 20161004 195600\n",
      "82 -1 0\t|1.15\t+\t1.27\t=\t2.42\n",
      "83 1 0\t|899.40\t+\t608.71\t=\t1508.11 20161011 220400\n",
      "83 1 0\t|1.42\t+\t0.96\t=\t2.37\n",
      "84 1 0\t|899.40\t+\t601.04\t=\t1500.44 20161019 223400\n",
      "84 1 0\t|1.43\t+\t0.96\t=\t2.39\n",
      "85 1 0\t|899.40\t+\t643.41\t=\t1542.81 20161027 20300\n",
      "85 1 0\t|1.34\t+\t0.96\t=\t2.30\n",
      "86 1 0\t|899.40\t+\t712.43\t=\t1611.83 20161103 35500\n",
      "86 1 0\t|1.21\t+\t0.96\t=\t2.17\n",
      "87 1 0\t|899.40\t+\t689.92\t=\t1589.32 20161110 60200\n",
      "87 1 0\t|1.25\t+\t0.96\t=\t2.21\n",
      "88 1 0\t|899.40\t+\t711.47\t=\t1610.87 20161117 80800\n",
      "88 1 0\t|1.21\t+\t0.96\t=\t2.17\n",
      "89 1 0\t|899.40\t+\t704.28\t=\t1603.68 20161124 143500\n",
      "89 1 0\t|1.22\t+\t0.96\t=\t2.18\n",
      "90 1 0\t|899.40\t+\t717.73\t=\t1617.13 20161201 160100\n",
      "90 1 0\t|1.20\t+\t0.96\t=\t2.16\n",
      "91 1 0\t|899.40\t+\t738.79\t=\t1638.19 20161208 181700\n",
      "91 1 0\t|1.17\t+\t0.96\t=\t2.12\n",
      "92 1 0\t|899.40\t+\t746.69\t=\t1646.09 20161215 183500\n",
      "92 1 0\t|1.15\t+\t0.96\t=\t2.11\n",
      "93 1 0\t|899.40\t+\t831.37\t=\t1730.77 20161222 182100\n",
      "93 1 0\t|1.04\t+\t0.96\t=\t1.99\n",
      "94 2 0\t|1099.20\t+\t709.26\t=\t1808.46 20161229 174800\n",
      "94 2 0\t|1.14\t+\t0.73\t=\t1.87\n",
      "95 2 0\t|1099.20\t+\t817.31\t=\t1916.51 20170104 201500\n",
      "95 2 0\t|0.99\t+\t0.73\t=\t1.72\n",
      "96 2 0\t|1099.20\t+\t574.33\t=\t1673.53 20170111 210600\n",
      "96 2 0\t|1.40\t+\t0.73\t=\t2.14\n",
      "97 1 0\t|999.20\t+\t696.20\t=\t1695.40 20170121 41800\n",
      "97 1 0\t|1.12\t+\t0.78\t=\t1.90\n",
      "98 1 0\t|999.20\t+\t719.22\t=\t1718.42 20170128 184500\n",
      "98 1 0\t|1.08\t+\t0.78\t=\t1.86\n",
      "99 1 0\t|999.20\t+\t804.91\t=\t1804.11 20170205 62600\n",
      "99 1 0\t|0.97\t+\t0.78\t=\t1.74\n",
      "100 1 0\t|999.20\t+\t785.36\t=\t1784.56 20170213 4800\n",
      "100 1 0\t|0.99\t+\t0.78\t=\t1.77\n",
      "101 1 0\t|999.20\t+\t830.34\t=\t1829.54 20170220 125300\n",
      "101 1 0\t|0.94\t+\t0.78\t=\t1.72\n",
      "102 1 0\t|999.20\t+\t920.22\t=\t1919.42 20170227 170500\n",
      "102 1 0\t|0.85\t+\t0.78\t=\t1.62\n",
      "103 2 0\t|1199.00\t+\t729.27\t=\t1928.27 20170309 163800\n",
      "103 2 0\t|1.02\t+\t0.62\t=\t1.63\n",
      "104 -1 0\t|899.00\t+\t781.71\t=\t1680.71 20170318 190300\n",
      "104 -1 0\t|0.93\t+\t0.81\t=\t1.74\n",
      "105 -1 0\t|899.00\t+\t830.61\t=\t1729.61 20170327 210100\n",
      "105 -1 0\t|0.88\t+\t0.81\t=\t1.69\n",
      "106 -1 0\t|899.00\t+\t937.42\t=\t1836.42 20170406 83400\n",
      "106 -1 0\t|0.78\t+\t0.81\t=\t1.59\n",
      "107 -1 0\t|899.00\t+\t968.00\t=\t1867.00 20170418 50900\n",
      "107 -1 0\t|0.75\t+\t0.81\t=\t1.56\n"
     ]
    },
    {
     "name": "stdout",
     "output_type": "stream",
     "text": [
      "108 1 0\t|1099.00\t+\t871.18\t=\t1970.18 20170427 194500\n",
      "108 1 0\t|0.82\t+\t0.65\t=\t1.47\n",
      "109 1 0\t|1099.00\t+\t1050.37\t=\t2149.37 20170505 81000\n",
      "109 1 0\t|0.68\t+\t0.65\t=\t1.33\n",
      "110 2 0\t|1298.80\t+\t944.41\t=\t2243.21 20170512 82600\n",
      "110 2 0\t|0.74\t+\t0.54\t=\t1.27\n",
      "111 2 0\t|1298.80\t+\t1030.81\t=\t2329.61 20170519 71400\n",
      "111 2 0\t|0.67\t+\t0.54\t=\t1.21\n",
      "112 2 0\t|1298.80\t+\t1331.22\t=\t2630.02 20170526 60600\n",
      "112 2 0\t|0.52\t+\t0.54\t=\t1.06\n",
      "113 2 0\t|1298.80\t+\t1284.41\t=\t2583.21 20170602 44600\n",
      "113 2 0\t|0.54\t+\t0.54\t=\t1.08\n",
      "114 2 0\t|1298.80\t+\t1499.32\t=\t2798.12 20170609 32600\n",
      "114 2 0\t|0.46\t+\t0.54\t=\t1.00\n",
      "115 2 0\t|1298.80\t+\t1295.78\t=\t2594.58 20170616 20900\n",
      "115 2 0\t|0.54\t+\t0.54\t=\t1.07\n",
      "116 2 0\t|1298.80\t+\t1441.66\t=\t2740.46 20170623 12700\n",
      "116 2 0\t|0.48\t+\t0.54\t=\t1.02\n",
      "117 2 0\t|1298.80\t+\t1363.80\t=\t2662.60 20170630 20300\n",
      "117 2 0\t|0.51\t+\t0.54\t=\t1.05\n",
      "118 1 0\t|1198.80\t+\t3041.33\t=\t4240.13 20170710 84300\n",
      "118 1 0\t|0.48\t+\t1.21\t=\t1.69\n",
      "119 -1 0\t|998.80\t+\t2475.31\t=\t3474.11 20170717 73800\n",
      "119 -1 0\t|0.51\t+\t1.26\t=\t1.76\n",
      "120 1 0\t|1198.80\t+\t3256.65\t=\t4455.45 20170724 71100\n",
      "120 1 0\t|0.43\t+\t1.18\t=\t1.61\n",
      "121 1 0\t|1198.80\t+\t3206.03\t=\t4404.83 20170731 63600\n",
      "121 1 0\t|0.44\t+\t1.18\t=\t1.62\n",
      "122 1 0\t|1198.80\t+\t3781.77\t=\t4980.57 20170807 51700\n",
      "122 1 0\t|0.37\t+\t1.18\t=\t1.55\n",
      "123 2 0\t|1398.60\t+\t4580.04\t=\t5978.64 20170814 35800\n",
      "123 2 0\t|0.34\t+\t1.12\t=\t1.47\n",
      "124 2 0\t|1398.60\t+\t4604.03\t=\t6002.63 20170821 23800\n",
      "124 2 0\t|0.34\t+\t1.12\t=\t1.46\n",
      "125 2 0\t|1398.60\t+\t4897.98\t=\t6296.58 20170828 11800\n",
      "125 2 0\t|0.32\t+\t1.12\t=\t1.44\n",
      "126 2 0\t|1398.60\t+\t5132.02\t=\t6530.62 20170904 2600\n",
      "126 2 0\t|0.31\t+\t1.12\t=\t1.43\n",
      "127 2 0\t|1398.60\t+\t4838.84\t=\t6237.44 20170910 231400\n",
      "127 2 0\t|0.32\t+\t1.12\t=\t1.45\n",
      "128 1 0\t|1298.60\t+\t4441.91\t=\t5740.51 20170920 42700\n",
      "128 1 0\t|0.33\t+\t1.13\t=\t1.47\n",
      "129 1 0\t|1298.60\t+\t4751.80\t=\t6050.40 20170928 11100\n",
      "129 1 0\t|0.31\t+\t1.13\t=\t1.44\n",
      "130 1 0\t|1298.60\t+\t4759.09\t=\t6057.69 20171004 235100\n",
      "130 1 0\t|0.31\t+\t1.13\t=\t1.44\n",
      "131 1 0\t|1298.60\t+\t5486.95\t=\t6785.55 20171012 82000\n",
      "131 1 0\t|0.27\t+\t1.13\t=\t1.40\n",
      "132 2 0\t|1498.40\t+\t6132.38\t=\t7630.78 20171019 105400\n",
      "132 2 0\t|0.27\t+\t1.09\t=\t1.36\n",
      "133 2 0\t|1498.40\t+\t6261.81\t=\t7760.21 20171026 94800\n",
      "133 2 0\t|0.26\t+\t1.09\t=\t1.36\n",
      "134 2 0\t|1498.40\t+\t7655.44\t=\t9153.84 20171102 93700\n",
      "134 2 0\t|0.21\t+\t1.09\t=\t1.31\n",
      "135 2 0\t|1498.40\t+\t8106.47\t=\t9604.87 20171109 83100\n",
      "135 2 0\t|0.20\t+\t1.09\t=\t1.30\n",
      "136 2 0\t|1498.40\t+\t7910.22\t=\t9408.62 20171116 73400\n",
      "136 2 0\t|0.21\t+\t1.09\t=\t1.30\n",
      "137 2 0\t|1498.40\t+\t8986.91\t=\t10485.31 20171123 63400\n",
      "137 2 0\t|0.18\t+\t1.09\t=\t1.28\n",
      "138 4 0\t|1898.00\t+\t10909.29\t=\t12807.29 20171130 53300\n",
      "138 4 0\t|0.18\t+\t1.05\t=\t1.23\n",
      "139 4 0\t|1898.00\t+\t14713.87\t=\t16611.87 20171207 53700\n",
      "139 4 0\t|0.14\t+\t1.05\t=\t1.19\n",
      "140 4 0\t|1898.00\t+\t17551.56\t=\t19449.56 20171214 71400\n",
      "140 4 0\t|0.11\t+\t1.05\t=\t1.16\n",
      "141 4 0\t|1898.00\t+\t17241.52\t=\t19139.52 20171221 55700\n",
      "141 4 0\t|0.12\t+\t1.05\t=\t1.17\n",
      "142 4 0\t|1898.00\t+\t15204.70\t=\t17102.70 20171228 70300\n",
      "142 4 0\t|0.13\t+\t1.05\t=\t1.18\n",
      "143 4 0\t|1898.00\t+\t15838.49\t=\t17736.49 20180103 63300\n",
      "143 4 0\t|0.13\t+\t1.05\t=\t1.18\n",
      "144 4 0\t|1898.00\t+\t15015.51\t=\t16913.51 20180110 51300\n",
      "144 4 0\t|0.13\t+\t1.05\t=\t1.18\n",
      "145 4 0\t|1898.00\t+\t11863.83\t=\t13761.83 20180117 41400\n",
      "145 4 0\t|0.17\t+\t1.05\t=\t1.22\n",
      "146 4 0\t|1898.00\t+\t11326.61\t=\t13224.61 20180124 25800\n",
      "146 4 0\t|0.18\t+\t1.05\t=\t1.23\n",
      "147 4 0\t|1898.00\t+\t10488.74\t=\t12386.74 20180131 22100\n",
      "147 4 0\t|0.19\t+\t1.05\t=\t1.24\n",
      "148 -1 0\t|1398.00\t+\t8343.41\t=\t9741.41 20180207 41000\n",
      "148 -1 0\t|0.18\t+\t1.09\t=\t1.28\n",
      "149 -1 0\t|1398.00\t+\t9328.21\t=\t10726.21 20180214 30100\n",
      "149 -1 0\t|0.16\t+\t1.09\t=\t1.26\n",
      "150 1 0\t|1598.00\t+\t12544.65\t=\t14142.65 20180221 14100\n",
      "150 1 0\t|0.14\t+\t1.07\t=\t1.21\n",
      "151 1 0\t|1598.00\t+\t11449.58\t=\t13047.58 20180228 2100\n",
      "151 1 0\t|0.15\t+\t1.07\t=\t1.22\n",
      "152 1 0\t|1598.00\t+\t11493.57\t=\t13091.57 20180306 230200\n",
      "152 1 0\t|0.15\t+\t1.07\t=\t1.22\n",
      "153 1 0\t|1598.00\t+\t9772.12\t=\t11370.12 20180313 214200\n",
      "153 1 0\t|0.18\t+\t1.07\t=\t1.25\n",
      "154 -1 0\t|1398.00\t+\t9583.69\t=\t10981.69 20180320 202200\n",
      "154 -1 0\t|0.16\t+\t1.09\t=\t1.24\n",
      "155 1 0\t|1598.00\t+\t8611.12\t=\t10209.12 20180327 190900\n",
      "155 1 0\t|0.20\t+\t1.06\t=\t1.26\n",
      "156 -1 0\t|1398.00\t+\t7918.12\t=\t9316.12 20180403 174900\n",
      "156 -1 0\t|0.19\t+\t1.08\t=\t1.27\n",
      "157 -1 0\t|1398.00\t+\t7270.73\t=\t8668.73 20180410 175000\n",
      "157 -1 0\t|0.21\t+\t1.08\t=\t1.28\n",
      "158 -1 0\t|1398.00\t+\t8724.26\t=\t10122.26 20180417 163100\n",
      "158 -1 0\t|0.17\t+\t1.08\t=\t1.25\n",
      "159 1 0\t|1598.00\t+\t9825.67\t=\t11423.67 20180424 151100\n",
      "159 1 0\t|0.17\t+\t1.06\t=\t1.23\n",
      "160 1 0\t|1598.00\t+\t9514.93\t=\t11112.93 20180501 135100\n",
      "160 1 0\t|0.18\t+\t1.06\t=\t1.23\n",
      "161 1 0\t|1598.00\t+\t9826.89\t=\t11424.89 20180508 123100\n",
      "161 1 0\t|0.17\t+\t1.06\t=\t1.23\n",
      "162 1 0\t|1598.00\t+\t9215.15\t=\t10813.15 20180515 125500\n",
      "162 1 0\t|0.18\t+\t1.06\t=\t1.24\n",
      "163 1 0\t|1598.00\t+\t8761.66\t=\t10359.66 20180522 115200\n",
      "163 1 0\t|0.19\t+\t1.06\t=\t1.25\n",
      "164 -1 0\t|1398.00\t+\t7623.15\t=\t9021.15 20180529 103600\n",
      "164 -1 0\t|0.20\t+\t1.07\t=\t1.26\n",
      "165 -1 0\t|1398.00\t+\t7935.40\t=\t9333.40 20180605 130200\n",
      "165 -1 0\t|0.19\t+\t1.07\t=\t1.26\n",
      "166 -1 0\t|1398.00\t+\t7335.79\t=\t8733.79 20180612 115200\n",
      "166 -1 0\t|0.20\t+\t1.07\t=\t1.27\n",
      "167 -1 0\t|1398.00\t+\t7160.56\t=\t8558.56 20180619 121700\n",
      "167 -1 0\t|0.21\t+\t1.07\t=\t1.28\n",
      "168 -1 0\t|1398.00\t+\t6650.86\t=\t8048.86 20180626 105800\n",
      "168 -1 0\t|0.22\t+\t1.07\t=\t1.29\n",
      "169 -1 0\t|1398.00\t+\t7085.75\t=\t8483.75 20180703 94000\n",
      "169 -1 0\t|0.21\t+\t1.07\t=\t1.28\n",
      "170 -1 0\t|1398.00\t+\t7098.11\t=\t8496.11 20180710 82100\n",
      "170 -1 0\t|0.21\t+\t1.07\t=\t1.28\n",
      "171 -1 0\t|1398.00\t+\t7205.45\t=\t8603.45 20180717 70100\n",
      "171 -1 0\t|0.21\t+\t1.07\t=\t1.28\n",
      "172 -1 0\t|1398.00\t+\t8262.54\t=\t9660.54 20180724 54100\n",
      "172 -1 0\t|0.18\t+\t1.07\t=\t1.25\n",
      "173 -1 0\t|1398.00\t+\t8682.44\t=\t10080.44 20180731 42200\n",
      "173 -1 0\t|0.17\t+\t1.07\t=\t1.24\n",
      "174 -1 0\t|1398.00\t+\t7416.63\t=\t8814.63 20180807 30200\n",
      "174 -1 0\t|0.20\t+\t1.07\t=\t1.27\n",
      "175 -1 0\t|1398.00\t+\t6522.53\t=\t7920.53 20180814 172500\n",
      "175 -1 0\t|0.23\t+\t1.07\t=\t1.30\n",
      "176 -1 0\t|1398.00\t+\t6870.84\t=\t8268.84 20180821 160500\n",
      "176 -1 0\t|0.22\t+\t1.07\t=\t1.29\n",
      "177 -1 0\t|1398.00\t+\t7502.56\t=\t8900.56 20180828 144500\n",
      "177 -1 0\t|0.20\t+\t1.07\t=\t1.27\n",
      "178 -1 0\t|1398.00\t+\t7789.55\t=\t9187.55 20180904 132500\n",
      "178 -1 0\t|0.19\t+\t1.07\t=\t1.26\n",
      "179 -1 0\t|1398.00\t+\t6753.13\t=\t8151.13 20180911 120500\n",
      "179 -1 0\t|0.22\t+\t1.07\t=\t1.29\n",
      "180 -1 0\t|1398.00\t+\t6696.29\t=\t8094.29 20180918 104600\n",
      "180 -1 0\t|0.22\t+\t1.07\t=\t1.29\n",
      "181 -1 0\t|1398.00\t+\t6874.45\t=\t8272.45 20180925 92600\n",
      "181 -1 0\t|0.22\t+\t1.07\t=\t1.29\n",
      "182 -1 0\t|1398.00\t+\t7031.25\t=\t8429.25 20181002 80600\n",
      "182 -1 0\t|0.21\t+\t1.07\t=\t1.28\n",
      "183 -1 0\t|1398.00\t+\t7049.47\t=\t8447.47 20181009 64600\n",
      "183 -1 0\t|0.21\t+\t1.07\t=\t1.28\n",
      "184 -1 0\t|1398.00\t+\t6870.93\t=\t8268.93 20181016 52700\n",
      "184 -1 0\t|0.22\t+\t1.07\t=\t1.29\n",
      "185 -1 0\t|1398.00\t+\t6849.29\t=\t8247.29 20181023 40700\n",
      "185 -1 0\t|0.22\t+\t1.07\t=\t1.29\n",
      "186 -1 0\t|1398.00\t+\t6698.80\t=\t8096.80 20181030 34800\n",
      "186 -1 0\t|0.22\t+\t1.07\t=\t1.29\n",
      "187 -1 0\t|1398.00\t+\t6842.51\t=\t8240.51 20181106 22900\n",
      "187 -1 0\t|0.22\t+\t1.07\t=\t1.29\n",
      "188 -1 0\t|1398.00\t+\t6739.50\t=\t8137.50 20181113 11000\n",
      "188 -1 0\t|0.22\t+\t1.07\t=\t1.29\n",
      "189 -2 0\t|1198.20\t+\t5445.85\t=\t6644.05 20181119 235000\n",
      "189 -2 0\t|0.24\t+\t1.11\t=\t1.35\n",
      "190 -2 0\t|1198.20\t+\t4257.48\t=\t5455.68 20181126 223000\n",
      "190 -2 0\t|0.31\t+\t1.11\t=\t1.42\n",
      "191 -2 0\t|1198.20\t+\t4245.25\t=\t5443.45 20181203 211000\n",
      "191 -2 0\t|0.31\t+\t1.11\t=\t1.42\n",
      "192 -2 0\t|1198.20\t+\t3807.80\t=\t5006.00 20181210 195000\n",
      "192 -2 0\t|0.35\t+\t1.11\t=\t1.45\n",
      "193 -2 0\t|1198.20\t+\t3735.60\t=\t4933.80 20181217 183100\n",
      "193 -2 0\t|0.35\t+\t1.11\t=\t1.46\n",
      "194 -2 0\t|1198.20\t+\t4575.00\t=\t5773.20 20181224 171100\n",
      "194 -2 0\t|0.29\t+\t1.11\t=\t1.40\n",
      "195 -2 0\t|1198.20\t+\t4151.41\t=\t5349.61 20181231 174000\n",
      "195 -2 0\t|0.32\t+\t1.11\t=\t1.42\n"
     ]
    }
   ],
   "source": [
    "for j in range(1001, len(df.open)):\n",
    "    c = curr\n",
    "    if (df.open[j]-c)/c > k[0]:\n",
    "        k[1] = k_defaults\n",
    "        k[0] *= 2\n",
    "        if b <= 0:\n",
    "            result[0]-=(b-1)*order\n",
    "            result[1]+=(b-1)*order/df.open[j]*0.999\n",
    "            b = 1\n",
    "        elif b > 0:\n",
    "            b *= 2\n",
    "            result[0]+=b*order*0.999\n",
    "            result[1]-=b*order/df.open[j]\n",
    "        curr = df.open[j]\n",
    "    elif (df.open[j]-c)/df.open[j] < -k[1]:\n",
    "        k[0] = k_defaults\n",
    "        k[1] *= 2\n",
    "        if b >= 0:\n",
    "            result[0]-=(b+1)*order\n",
    "            result[1]+=b*order/df.open[j]*0.999\n",
    "            b = -1\n",
    "        elif b < 0:\n",
    "            b *= 2\n",
    "            result[0]+=b*order*0.999\n",
    "            result[1]-=b*order/df.open[j]\n",
    "        curr = df.open[j]\n",
    "        \n",
    "    m_u = result[0]\n",
    "    m_b = result[1]*df.open[j]\n",
    "    all_j[j] = m_u + m_b\n",
    "    if m_u < maxloss:\n",
    "        maxloss = m_u\n",
    "    if m_b < maxloss:\n",
    "        maxloss = m_b\n",
    "        \n",
    "    if max_b < math.fabs(b):\n",
    "        max_b = math.fabs(b)\n",
    "        \n",
    "    if j %10000 == 0 or j == 10 or j == 100 or j == 1000:\n",
    "        print(\"{} {} {}\\t|{:.2f}\\t+\\t{:.2f}\\t=\\t{:.2f} {}\".format(j//10000, b, maxloss, result[0],\\\n",
    "                                                                  result[1]*df.open[j], all_j[j],\\\n",
    "                                                                  str(df.date[j])+\" \"+str(df.time[j])))\n",
    "        print(\"{} {} {}\\t|{:.2f}\\t+\\t{:.2f}\\t=\\t{:.2f}\".format(j//10000, b, maxloss, result[0]/df.open[j],\\\n",
    "                                                                  result[1], all_j[j]/df.open[j],\\\n",
    "                                                                  str(df.date[j])+\" \"+str(df.time[j])))"
   ]
  },
  {
   "cell_type": "code",
   "execution_count": 39,
   "metadata": {},
   "outputs": [
    {
     "data": {
      "text/plain": [
       "[-377039.36185563775, 183.45202279285988]"
      ]
     },
     "execution_count": 39,
     "metadata": {},
     "output_type": "execute_result"
    }
   ],
   "source": [
    "result"
   ]
  },
  {
   "cell_type": "code",
   "execution_count": 33,
   "metadata": {},
   "outputs": [
    {
     "data": {
      "text/plain": [
       "16.0"
      ]
     },
     "execution_count": 33,
     "metadata": {},
     "output_type": "execute_result"
    }
   ],
   "source": [
    "b"
   ]
  },
  {
   "cell_type": "code",
   "execution_count": 123,
   "metadata": {},
   "outputs": [
    {
     "data": {
      "text/plain": [
       "206.24"
      ]
     },
     "execution_count": 123,
     "metadata": {},
     "output_type": "execute_result"
    }
   ],
   "source": [
    "df.open[1000]"
   ]
  },
  {
   "cell_type": "code",
   "execution_count": 25,
   "metadata": {},
   "outputs": [
    {
     "data": {
      "text/plain": [
       "-37730.2336"
      ]
     },
     "execution_count": 25,
     "metadata": {},
     "output_type": "execute_result"
    }
   ],
   "source": [
    "maxloss"
   ]
  },
  {
   "cell_type": "code",
   "execution_count": 66,
   "metadata": {},
   "outputs": [
    {
     "data": {
      "text/plain": [
       "3724.04"
      ]
     },
     "execution_count": 66,
     "metadata": {},
     "output_type": "execute_result"
    }
   ],
   "source": [
    "df.open.values[-1]"
   ]
  },
  {
   "cell_type": "code",
   "execution_count": 110,
   "metadata": {},
   "outputs": [],
   "source": [
    "c = ['orange', 'yellow', 'black', 'blue', 'green', 'gray', 'red', 'violet', 'tan', 'lime', 'darkblue', 'pink', 'aqua', 'gold', 'darkred']"
   ]
  },
  {
   "cell_type": "code",
   "execution_count": 111,
   "metadata": {
    "scrolled": true
   },
   "outputs": [
    {
     "data": {
      "text/plain": [
       "[<matplotlib.lines.Line2D at 0x2593e3d0320>]"
      ]
     },
     "execution_count": 111,
     "metadata": {},
     "output_type": "execute_result"
    },
    {
     "data": {
      "image/png": "[encoded data removed]",
      "text/plain": [
       "<Figure size 432x288 with 1 Axes>"
      ]
     },
     "metadata": {
      "needs_background": "light"
     },
     "output_type": "display_data"
    }
   ],
   "source": [
    "plt.plot(list(range(len(all_j))), all_j, color = c[1])\n",
    "plt.plot(list(range(len(all_j))), df.open, color = c[2])"
   ]
  },
  {
   "cell_type": "code",
   "execution_count": 46,
   "metadata": {},
   "outputs": [
    {
     "data": {
      "text/plain": [
       "306143.30910588417"
      ]
     },
     "execution_count": 46,
     "metadata": {},
     "output_type": "execute_result"
    }
   ],
   "source": [
    "all_j[-1]"
   ]
  },
  {
   "cell_type": "code",
   "execution_count": 16,
   "metadata": {},
   "outputs": [
    {
     "data": {
      "text/plain": [
       "[81878.83984756934,\n",
       " 71663.71519489263,\n",
       " 99051.4637211352,\n",
       " 97070.58361291724,\n",
       " 3561.0259899857283,\n",
       " 48118.46501843797]"
      ]
     },
     "execution_count": 16,
     "metadata": {},
     "output_type": "execute_result"
    }
   ],
   "source": [
    "list(map(lambda a : a[-1], all_j))"
   ]
  },
  {
   "cell_type": "code",
   "execution_count": null,
   "metadata": {},
   "outputs": [],
   "source": []
  }
 ],
 "metadata": {
  "kernelspec": {
   "display_name": "Python 3",
   "language": "python",
   "name": "python3"
  },
  "language_info": {
   "codemirror_mode": {
    "name": "ipython",
    "version": 3
   },
   "file_extension": ".py",
   "mimetype": "text/x-python",
   "name": "python",
   "nbconvert_exporter": "python",
   "pygments_lexer": "ipython3",
   "version": "3.7.1"
  }
 },
 "nbformat": 4,
 "nbformat_minor": 2
}
